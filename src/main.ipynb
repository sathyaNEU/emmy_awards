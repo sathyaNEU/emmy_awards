{
 "cells": [
  {
   "cell_type": "code",
   "execution_count": 75,
   "metadata": {},
   "outputs": [],
   "source": [
    "from natsort import natsorted\n",
    "from PIL import Image,ImageOps\n",
    "import os "
   ]
  },
  {
   "cell_type": "code",
   "execution_count": 119,
   "metadata": {},
   "outputs": [],
   "source": [
    "def getOrderedImgs(episode) -> list:\n",
    "    path = os.getcwd().replace('\\\\src','')+'\\\\images\\\\' + episode\n",
    "    imgs_file_lst = natsorted(os.listdir(path)) if os.path.exists(path) else []\n",
    "    return (path,imgs_file_lst)\n"
   ]
  },
  {
   "cell_type": "code",
   "execution_count": 17,
   "metadata": {},
   "outputs": [
    {
     "data": {
      "text/plain": [
       "('d:\\\\Data Science\\\\emmy_root\\\\images\\\\ep1',\n",
       " ['ep1_img1.png',\n",
       "  'ep1_img2.png',\n",
       "  'ep1_img3.png',\n",
       "  'ep1_img4.png',\n",
       "  'ep1_img5.png',\n",
       "  'ep1_img6.png'])"
      ]
     },
     "execution_count": 17,
     "metadata": {},
     "output_type": "execute_result"
    }
   ],
   "source": [
    "getOrderedImgs('ep1')"
   ]
  },
  {
   "cell_type": "code",
   "execution_count": 112,
   "metadata": {},
   "outputs": [],
   "source": [
    "def getImgObjects(episode,width=400,height=300):\n",
    "    path,imgs_file_lst = getOrderedImgs(episode)[0],getOrderedImgs(episode)[1]\n",
    "    imgs_lst = []\n",
    "    if imgs_file_lst:\n",
    "        for i in imgs_file_lst:\n",
    "            imgs_lst.append(Image.open(path+'\\\\'+i).resize((width,height)))        \n",
    "    return imgs_lst"
   ]
  },
  {
   "cell_type": "code",
   "execution_count": 115,
   "metadata": {},
   "outputs": [
    {
     "data": {
      "text/plain": [
       "[<PIL.Image.Image image mode=RGBA size=100x100>,\n",
       " <PIL.Image.Image image mode=RGBA size=100x100>,\n",
       " <PIL.Image.Image image mode=RGBA size=100x100>,\n",
       " <PIL.Image.Image image mode=RGBA size=100x100>,\n",
       " <PIL.Image.Image image mode=RGBA size=100x100>,\n",
       " <PIL.Image.Image image mode=RGBA size=100x100>]"
      ]
     },
     "execution_count": 115,
     "metadata": {},
     "output_type": "execute_result"
    }
   ],
   "source": [
    "getImgObjects('ep1',100,100)"
   ]
  },
  {
   "cell_type": "code",
   "execution_count": 116,
   "metadata": {},
   "outputs": [],
   "source": [
    "def getImgObjectsWithBorder(imgs_lst,sides,top,color):\n",
    "    return [ImageOps.expand(i, border=(sides,top),fill=color) for i in imgs_lst]"
   ]
  },
  {
   "cell_type": "code",
   "execution_count": 118,
   "metadata": {},
   "outputs": [],
   "source": [
    "for i in getImgObjectsWithBorder(getImgObjects('ep1',100,100),5,5,'black'):\n",
    "    display(i)"
   ]
  },
  {
   "cell_type": "code",
   "execution_count": null,
   "metadata": {},
   "outputs": [],
   "source": []
  }
 ],
 "metadata": {
  "kernelspec": {
   "display_name": "EMMY",
   "language": "python",
   "name": "python3"
  },
  "language_info": {
   "codemirror_mode": {
    "name": "ipython",
    "version": 3
   },
   "file_extension": ".py",
   "mimetype": "text/x-python",
   "name": "python",
   "nbconvert_exporter": "python",
   "pygments_lexer": "ipython3",
   "version": "3.13.0"
  }
 },
 "nbformat": 4,
 "nbformat_minor": 2
}
